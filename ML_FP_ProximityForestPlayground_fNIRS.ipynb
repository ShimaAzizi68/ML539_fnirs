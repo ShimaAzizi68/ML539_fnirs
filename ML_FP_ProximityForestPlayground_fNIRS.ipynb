{
  "nbformat": 4,
  "nbformat_minor": 0,
  "metadata": {
    "colab": {
      "name": "ML_FP_ProximityForestPlayground_fNIRS.ipynb",
      "provenance": [],
      "collapsed_sections": []
    },
    "kernelspec": {
      "name": "python3",
      "display_name": "Python 3"
    }
  },
  "cells": [
    {
      "cell_type": "code",
      "metadata": {
        "id": "VjDUEKQMgLD4",
        "colab": {
          "base_uri": "https://localhost:8080/"
        },
        "outputId": "cc03bb53-f3a1-406f-c608-d2469af0f512"
      },
      "source": [
        "!pip install tsfresh"
      ],
      "execution_count": 6,
      "outputs": [
        {
          "output_type": "stream",
          "text": [
            "Requirement already satisfied: tsfresh in /usr/local/lib/python3.6/dist-packages (0.17.0)\n",
            "Requirement already satisfied: tqdm>=4.10.0 in /usr/local/lib/python3.6/dist-packages (from tsfresh) (4.41.1)\n",
            "Requirement already satisfied: numpy>=1.15.1 in /usr/local/lib/python3.6/dist-packages (from tsfresh) (1.18.5)\n",
            "Requirement already satisfied: scipy>=1.2.0 in /usr/local/lib/python3.6/dist-packages (from tsfresh) (1.4.1)\n",
            "Requirement already satisfied: patsy>=0.4.1 in /usr/local/lib/python3.6/dist-packages (from tsfresh) (0.5.1)\n",
            "Requirement already satisfied: distributed>=2.11.0 in /usr/local/lib/python3.6/dist-packages (from tsfresh) (2.30.1)\n",
            "Requirement already satisfied: dask[dataframe]>=2.9.0 in /usr/local/lib/python3.6/dist-packages (from tsfresh) (2.12.0)\n",
            "Requirement already satisfied: scikit-learn>=0.19.2 in /usr/local/lib/python3.6/dist-packages (from tsfresh) (0.23.2)\n",
            "Requirement already satisfied: pandas>=0.25.0 in /usr/local/lib/python3.6/dist-packages (from tsfresh) (1.1.4)\n",
            "Requirement already satisfied: requests>=2.9.1 in /usr/local/lib/python3.6/dist-packages (from tsfresh) (2.23.0)\n",
            "Requirement already satisfied: statsmodels>=0.9.0 in /usr/local/lib/python3.6/dist-packages (from tsfresh) (0.12.1)\n",
            "Requirement already satisfied: six in /usr/local/lib/python3.6/dist-packages (from patsy>=0.4.1->tsfresh) (1.15.0)\n",
            "Requirement already satisfied: pyyaml in /usr/local/lib/python3.6/dist-packages (from distributed>=2.11.0->tsfresh) (3.13)\n",
            "Requirement already satisfied: click>=6.6 in /usr/local/lib/python3.6/dist-packages (from distributed>=2.11.0->tsfresh) (7.1.2)\n",
            "Requirement already satisfied: zict>=0.1.3 in /usr/local/lib/python3.6/dist-packages (from distributed>=2.11.0->tsfresh) (2.0.0)\n",
            "Requirement already satisfied: cloudpickle>=1.5.0 in /usr/local/lib/python3.6/dist-packages (from distributed>=2.11.0->tsfresh) (1.6.0)\n",
            "Requirement already satisfied: toolz>=0.8.2 in /usr/local/lib/python3.6/dist-packages (from distributed>=2.11.0->tsfresh) (0.11.1)\n",
            "Requirement already satisfied: psutil>=5.0 in /usr/local/lib/python3.6/dist-packages (from distributed>=2.11.0->tsfresh) (5.4.8)\n",
            "Requirement already satisfied: sortedcontainers!=2.0.0,!=2.0.1 in /usr/local/lib/python3.6/dist-packages (from distributed>=2.11.0->tsfresh) (2.3.0)\n",
            "Requirement already satisfied: tornado>=5; python_version < \"3.8\" in /usr/local/lib/python3.6/dist-packages (from distributed>=2.11.0->tsfresh) (5.1.1)\n",
            "Requirement already satisfied: setuptools in /usr/local/lib/python3.6/dist-packages (from distributed>=2.11.0->tsfresh) (50.3.2)\n",
            "Requirement already satisfied: tblib>=1.6.0 in /usr/local/lib/python3.6/dist-packages (from distributed>=2.11.0->tsfresh) (1.7.0)\n",
            "Requirement already satisfied: msgpack>=0.6.0 in /usr/local/lib/python3.6/dist-packages (from distributed>=2.11.0->tsfresh) (1.0.0)\n",
            "Requirement already satisfied: contextvars; python_version < \"3.7\" in /usr/local/lib/python3.6/dist-packages (from distributed>=2.11.0->tsfresh) (2.4)\n",
            "Requirement already satisfied: fsspec>=0.6.0; extra == \"dataframe\" in /usr/local/lib/python3.6/dist-packages (from dask[dataframe]>=2.9.0->tsfresh) (0.8.4)\n",
            "Requirement already satisfied: partd>=0.3.10; extra == \"dataframe\" in /usr/local/lib/python3.6/dist-packages (from dask[dataframe]>=2.9.0->tsfresh) (1.1.0)\n",
            "Requirement already satisfied: joblib>=0.11 in /usr/local/lib/python3.6/dist-packages (from scikit-learn>=0.19.2->tsfresh) (0.17.0)\n",
            "Requirement already satisfied: threadpoolctl>=2.0.0 in /usr/local/lib/python3.6/dist-packages (from scikit-learn>=0.19.2->tsfresh) (2.1.0)\n",
            "Requirement already satisfied: pytz>=2017.2 in /usr/local/lib/python3.6/dist-packages (from pandas>=0.25.0->tsfresh) (2018.9)\n",
            "Requirement already satisfied: python-dateutil>=2.7.3 in /usr/local/lib/python3.6/dist-packages (from pandas>=0.25.0->tsfresh) (2.8.1)\n",
            "Requirement already satisfied: urllib3!=1.25.0,!=1.25.1,<1.26,>=1.21.1 in /usr/local/lib/python3.6/dist-packages (from requests>=2.9.1->tsfresh) (1.24.3)\n",
            "Requirement already satisfied: chardet<4,>=3.0.2 in /usr/local/lib/python3.6/dist-packages (from requests>=2.9.1->tsfresh) (3.0.4)\n",
            "Requirement already satisfied: certifi>=2017.4.17 in /usr/local/lib/python3.6/dist-packages (from requests>=2.9.1->tsfresh) (2020.11.8)\n",
            "Requirement already satisfied: idna<3,>=2.5 in /usr/local/lib/python3.6/dist-packages (from requests>=2.9.1->tsfresh) (2.10)\n",
            "Requirement already satisfied: heapdict in /usr/local/lib/python3.6/dist-packages (from zict>=0.1.3->distributed>=2.11.0->tsfresh) (1.0.1)\n",
            "Requirement already satisfied: immutables>=0.9 in /usr/local/lib/python3.6/dist-packages (from contextvars; python_version < \"3.7\"->distributed>=2.11.0->tsfresh) (0.14)\n",
            "Requirement already satisfied: locket in /usr/local/lib/python3.6/dist-packages (from partd>=0.3.10; extra == \"dataframe\"->dask[dataframe]>=2.9.0->tsfresh) (0.2.0)\n"
          ],
          "name": "stdout"
        }
      ]
    },
    {
      "cell_type": "code",
      "metadata": {
        "id": "s6vjS2RP15l9",
        "colab": {
          "base_uri": "https://localhost:8080/"
        },
        "outputId": "6e42b2db-b102-440d-be0f-fee8a15b707a"
      },
      "source": [
        "!pip install sktime"
      ],
      "execution_count": 2,
      "outputs": [
        {
          "output_type": "stream",
          "text": [
            "Collecting sktime\n",
            "\u001b[?25l  Downloading https://files.pythonhosted.org/packages/8b/85/b58f26cf0e6404d80b365a318b9e49c6810a9ee00c44f039d65272ec4314/sktime-0.4.3-cp36-cp36m-manylinux2014_x86_64.whl (5.6MB)\n",
            "\u001b[K     |████████████████████████████████| 5.6MB 4.7MB/s \n",
            "\u001b[?25hRequirement already satisfied: numpy>=1.18.0 in /usr/local/lib/python3.6/dist-packages (from sktime) (1.18.5)\n",
            "Collecting statsmodels>=0.12.0\n",
            "\u001b[?25l  Downloading https://files.pythonhosted.org/packages/be/4c/9e2435ca6645d6bafa2b51bb11f0a365b28934a2ffe9d6e339d67130926d/statsmodels-0.12.1-cp36-cp36m-manylinux1_x86_64.whl (9.5MB)\n",
            "\u001b[K     |████████████████████████████████| 9.5MB 26.2MB/s \n",
            "\u001b[?25hRequirement already satisfied: wheel in /usr/local/lib/python3.6/dist-packages (from sktime) (0.35.1)\n",
            "Collecting scikit-learn>=0.23.0\n",
            "\u001b[?25l  Downloading https://files.pythonhosted.org/packages/5c/a1/273def87037a7fb010512bbc5901c31cfddfca8080bc63b42b26e3cc55b3/scikit_learn-0.23.2-cp36-cp36m-manylinux1_x86_64.whl (6.8MB)\n",
            "\u001b[K     |████████████████████████████████| 6.8MB 46.3MB/s \n",
            "\u001b[?25hRequirement already satisfied: pandas>=1.0.0 in /usr/local/lib/python3.6/dist-packages (from sktime) (1.1.4)\n",
            "Requirement already satisfied: scipy>=1.1 in /usr/local/lib/python3.6/dist-packages (from statsmodels>=0.12.0->sktime) (1.4.1)\n",
            "Requirement already satisfied: patsy>=0.5 in /usr/local/lib/python3.6/dist-packages (from statsmodels>=0.12.0->sktime) (0.5.1)\n",
            "Collecting threadpoolctl>=2.0.0\n",
            "  Downloading https://files.pythonhosted.org/packages/f7/12/ec3f2e203afa394a149911729357aa48affc59c20e2c1c8297a60f33f133/threadpoolctl-2.1.0-py3-none-any.whl\n",
            "Requirement already satisfied: joblib>=0.11 in /usr/local/lib/python3.6/dist-packages (from scikit-learn>=0.23.0->sktime) (0.17.0)\n",
            "Requirement already satisfied: pytz>=2017.2 in /usr/local/lib/python3.6/dist-packages (from pandas>=1.0.0->sktime) (2018.9)\n",
            "Requirement already satisfied: python-dateutil>=2.7.3 in /usr/local/lib/python3.6/dist-packages (from pandas>=1.0.0->sktime) (2.8.1)\n",
            "Requirement already satisfied: six in /usr/local/lib/python3.6/dist-packages (from patsy>=0.5->statsmodels>=0.12.0->sktime) (1.15.0)\n",
            "Installing collected packages: statsmodels, threadpoolctl, scikit-learn, sktime\n",
            "  Found existing installation: statsmodels 0.10.2\n",
            "    Uninstalling statsmodels-0.10.2:\n",
            "      Successfully uninstalled statsmodels-0.10.2\n",
            "  Found existing installation: scikit-learn 0.22.2.post1\n",
            "    Uninstalling scikit-learn-0.22.2.post1:\n",
            "      Successfully uninstalled scikit-learn-0.22.2.post1\n",
            "Successfully installed scikit-learn-0.23.2 sktime-0.4.3 statsmodels-0.12.1 threadpoolctl-2.1.0\n"
          ],
          "name": "stdout"
        }
      ]
    },
    {
      "cell_type": "code",
      "metadata": {
        "id": "txFPRm8sn2I2"
      },
      "source": [
        "import sktime\n",
        "import numpy as np\n",
        "import pandas as pd"
      ],
      "execution_count": 3,
      "outputs": []
    },
    {
      "cell_type": "markdown",
      "metadata": {
        "id": "NWRF6aoNVsAC"
      },
      "source": [
        "Loading fNIRS Data"
      ]
    },
    {
      "cell_type": "code",
      "metadata": {
        "id": "snAn5EGW-bLn"
      },
      "source": [
        "fnirs_namesCol = ['Subject Name', 'Event Name', 'Channel Name', 'Start time', 'End time']\n",
        "\n",
        "for q in range(131):\n",
        "  strVar = 'v' + str(q)\n",
        "  fnirs_namesCol.append(strVar)\n",
        "\n",
        "fnirs_df = pd.read_csv('/content/drive/MyDrive/CS539/211_AXCPT19_TK_axcaxwr_hb_cs539.csv', header = 0, names = fnirs_namesCol)\n",
        "fnirs_col_name = list(fnirs_df.columns)\n",
        "fnirs_trans_df = pd.DataFrame(data = fnirs_df, columns = fnirs_col_name)"
      ],
      "execution_count": 9,
      "outputs": []
    },
    {
      "cell_type": "code",
      "metadata": {
        "id": "qLAgPvXDYJDo"
      },
      "source": [
        "fnirs_trans_df.head()"
      ],
      "execution_count": null,
      "outputs": []
    },
    {
      "cell_type": "code",
      "metadata": {
        "id": "RTASM3IiYjWN"
      },
      "source": [
        "from sklearn.model_selection import train_test_split\n",
        "\n",
        "fnirs_X_df = fnirs_trans_df.drop(['Event Name'], axis=1)\n",
        "fnirs_Y_sr = fnirs_trans_df['Event Name']\n",
        "fnirs_X_train, fnirs_X_test, fnirs_Y_train, fnirs_Y_test = train_test_split(fnirs_X_df,fnirs_Y_sr)"
      ],
      "execution_count": 19,
      "outputs": []
    },
    {
      "cell_type": "code",
      "metadata": {
        "colab": {
          "base_uri": "https://localhost:8080/"
        },
        "id": "XSMsPEqbZW_e",
        "outputId": "2e187e85-783c-464b-ddfa-89aec665dc81"
      },
      "source": [
        "print(fnirs_X_train.shape, fnirs_X_test.shape, fnirs_Y_train.shape, fnirs_Y_test.shape)"
      ],
      "execution_count": 20,
      "outputs": [
        {
          "output_type": "stream",
          "text": [
            "(1380, 135) (460, 135) (1380,) (460,)\n"
          ],
          "name": "stdout"
        }
      ]
    },
    {
      "cell_type": "code",
      "metadata": {
        "colab": {
          "base_uri": "https://localhost:8080/"
        },
        "id": "ckiDRX__zIGn",
        "outputId": "b35ac67e-d97e-4942-d7ae-2fc5e6ec95ad"
      },
      "source": [
        "# encoding labels in X datasets\n",
        "from sklearn import preprocessing\n",
        "\n",
        "cat_cols = ['Subject Name', 'Channel Name', 'Start time', 'End time']\n",
        "# cat_cols = ['group', 'trial']\n",
        "enc = preprocessing.LabelEncoder()\n",
        "\n",
        "for col in cat_cols:\n",
        "    fnirs_X_train[col] = fnirs_X_train[col].astype('str')\n",
        "    fnirs_X_test[col] = fnirs_X_test[col].astype('str')\n",
        "    fnirs_X_train[col] = enc.fit_transform(fnirs_X_train[col])\n",
        "    fnirs_X_test[col] = enc.transform(fnirs_X_test[col]) # this throws a labeling error, I assume because of the subject IDs"
      ],
      "execution_count": 22,
      "outputs": [
        {
          "output_type": "stream",
          "text": [
            "/usr/local/lib/python3.6/dist-packages/ipykernel_launcher.py:9: SettingWithCopyWarning: \n",
            "A value is trying to be set on a copy of a slice from a DataFrame.\n",
            "Try using .loc[row_indexer,col_indexer] = value instead\n",
            "\n",
            "See the caveats in the documentation: https://pandas.pydata.org/pandas-docs/stable/user_guide/indexing.html#returning-a-view-versus-a-copy\n",
            "  if __name__ == '__main__':\n",
            "/usr/local/lib/python3.6/dist-packages/ipykernel_launcher.py:10: SettingWithCopyWarning: \n",
            "A value is trying to be set on a copy of a slice from a DataFrame.\n",
            "Try using .loc[row_indexer,col_indexer] = value instead\n",
            "\n",
            "See the caveats in the documentation: https://pandas.pydata.org/pandas-docs/stable/user_guide/indexing.html#returning-a-view-versus-a-copy\n",
            "  # Remove the CWD from sys.path while we load stuff.\n",
            "/usr/local/lib/python3.6/dist-packages/ipykernel_launcher.py:11: SettingWithCopyWarning: \n",
            "A value is trying to be set on a copy of a slice from a DataFrame.\n",
            "Try using .loc[row_indexer,col_indexer] = value instead\n",
            "\n",
            "See the caveats in the documentation: https://pandas.pydata.org/pandas-docs/stable/user_guide/indexing.html#returning-a-view-versus-a-copy\n",
            "  # This is added back by InteractiveShellApp.init_path()\n",
            "/usr/local/lib/python3.6/dist-packages/ipykernel_launcher.py:12: SettingWithCopyWarning: \n",
            "A value is trying to be set on a copy of a slice from a DataFrame.\n",
            "Try using .loc[row_indexer,col_indexer] = value instead\n",
            "\n",
            "See the caveats in the documentation: https://pandas.pydata.org/pandas-docs/stable/user_guide/indexing.html#returning-a-view-versus-a-copy\n",
            "  if sys.path[0] == '':\n"
          ],
          "name": "stderr"
        }
      ]
    },
    {
      "cell_type": "code",
      "metadata": {
        "colab": {
          "base_uri": "https://localhost:8080/"
        },
        "id": "cqbJns6m1-Xb",
        "outputId": "9a2ba172-7439-41db-a67e-f61ff91ee565"
      },
      "source": [
        "#isolate the time series\n",
        "fnirs_X_train_timedata = fnirs_X_train[fnirs_X_train.columns[4:135]]\n",
        "fnirs_X_test_timedata = fnirs_X_test[fnirs_X_test.columns[4:135]]\n",
        "\n",
        "\n",
        "\n",
        "fnirs_X_train_timedata['combine'] = fnirs_X_train_timedata.values.tolist()\n",
        "fnirs_X_test_timedata['combine'] = fnirs_X_test_timedata.values.tolist()\n",
        "fnirs_X_train_timedata = fnirs_X_train_timedata['combine']\n",
        "fnirs_X_test_timedata = fnirs_X_test_timedata['combine']\n",
        "\n",
        "#convert to dataframe\n",
        "fnirs_X_train_timedata = fnirs_X_train_timedata.to_frame()\n",
        "fnirs_X_test_timedata = fnirs_X_test_timedata.to_frame()"
      ],
      "execution_count": 29,
      "outputs": [
        {
          "output_type": "stream",
          "text": [
            "/usr/local/lib/python3.6/dist-packages/ipykernel_launcher.py:7: SettingWithCopyWarning: \n",
            "A value is trying to be set on a copy of a slice from a DataFrame.\n",
            "Try using .loc[row_indexer,col_indexer] = value instead\n",
            "\n",
            "See the caveats in the documentation: https://pandas.pydata.org/pandas-docs/stable/user_guide/indexing.html#returning-a-view-versus-a-copy\n",
            "  import sys\n",
            "/usr/local/lib/python3.6/dist-packages/ipykernel_launcher.py:8: SettingWithCopyWarning: \n",
            "A value is trying to be set on a copy of a slice from a DataFrame.\n",
            "Try using .loc[row_indexer,col_indexer] = value instead\n",
            "\n",
            "See the caveats in the documentation: https://pandas.pydata.org/pandas-docs/stable/user_guide/indexing.html#returning-a-view-versus-a-copy\n",
            "  \n"
          ],
          "name": "stderr"
        }
      ]
    },
    {
      "cell_type": "code",
      "metadata": {
        "id": "ibJI1PG32QU-"
      },
      "source": [
        "fnirs_ts_train = pd.Series(fnirs_X_train_timedata['combine'].values, index=fnirs_X_train_timedata.index)\n",
        "fnirs_X_ts_train = fnirs_ts_train.to_frame()\n",
        "\n",
        "fnirs_ts_test = pd.Series(fnirs_X_test_timedata['combine'].values, index=fnirs_X_test_timedata.index)\n",
        "fnirs_X_ts_test = fnirs_ts_test.to_frame()"
      ],
      "execution_count": 30,
      "outputs": []
    },
    {
      "cell_type": "code",
      "metadata": {
        "id": "R2FxgwYU2fWY"
      },
      "source": [
        "for row_num in range(0,fnirs_X_ts_train.shape[0]):\n",
        "  fnirs_train_series = pd.Series(fnirs_X_ts_train.iat[row_num,0])\n",
        "  fnirs_X_ts_train.iat[row_num,0] = fnirs_train_series\n",
        "\n",
        "for row_num in range(0,fnirs_X_ts_test.shape[0]):\n",
        "  fnirs_test_series = pd.Series(fnirs_X_ts_test.iat[row_num,0])\n",
        "  fnirs_X_ts_test.iat[row_num,0] = fnirs_test_series"
      ],
      "execution_count": 31,
      "outputs": []
    },
    {
      "cell_type": "markdown",
      "metadata": {
        "id": "V4991f1720VI"
      },
      "source": [
        "Verifying the format of the data"
      ]
    },
    {
      "cell_type": "code",
      "metadata": {
        "colab": {
          "base_uri": "https://localhost:8080/",
          "height": 204
        },
        "id": "aYvHliUH2qeH",
        "outputId": "9e232547-bcd1-4a1c-861c-f237276be933"
      },
      "source": [
        "fnirs_X_ts_test.head()"
      ],
      "execution_count": 32,
      "outputs": [
        {
          "output_type": "execute_result",
          "data": {
            "text/html": [
              "<div>\n",
              "<style scoped>\n",
              "    .dataframe tbody tr th:only-of-type {\n",
              "        vertical-align: middle;\n",
              "    }\n",
              "\n",
              "    .dataframe tbody tr th {\n",
              "        vertical-align: top;\n",
              "    }\n",
              "\n",
              "    .dataframe thead th {\n",
              "        text-align: right;\n",
              "    }\n",
              "</style>\n",
              "<table border=\"1\" class=\"dataframe\">\n",
              "  <thead>\n",
              "    <tr style=\"text-align: right;\">\n",
              "      <th></th>\n",
              "      <th>0</th>\n",
              "    </tr>\n",
              "  </thead>\n",
              "  <tbody>\n",
              "    <tr>\n",
              "      <th>55</th>\n",
              "      <td>0     -0.183769\n",
              "1     -0.172173\n",
              "2     -0.15876...</td>\n",
              "    </tr>\n",
              "    <tr>\n",
              "      <th>1835</th>\n",
              "      <td>0     -0.926401\n",
              "1     -0.901414\n",
              "2     -0.87556...</td>\n",
              "    </tr>\n",
              "    <tr>\n",
              "      <th>487</th>\n",
              "      <td>0     -0.712602\n",
              "1     -0.738459\n",
              "2     -0.75479...</td>\n",
              "    </tr>\n",
              "    <tr>\n",
              "      <th>1638</th>\n",
              "      <td>0     -0.170718\n",
              "1     -0.173866\n",
              "2     -0.17271...</td>\n",
              "    </tr>\n",
              "    <tr>\n",
              "      <th>1813</th>\n",
              "      <td>0      1.377929\n",
              "1      1.422019\n",
              "2      1.46723...</td>\n",
              "    </tr>\n",
              "  </tbody>\n",
              "</table>\n",
              "</div>"
            ],
            "text/plain": [
              "                                                      0\n",
              "55    0     -0.183769\n",
              "1     -0.172173\n",
              "2     -0.15876...\n",
              "1835  0     -0.926401\n",
              "1     -0.901414\n",
              "2     -0.87556...\n",
              "487   0     -0.712602\n",
              "1     -0.738459\n",
              "2     -0.75479...\n",
              "1638  0     -0.170718\n",
              "1     -0.173866\n",
              "2     -0.17271...\n",
              "1813  0      1.377929\n",
              "1      1.422019\n",
              "2      1.46723..."
            ]
          },
          "metadata": {
            "tags": []
          },
          "execution_count": 32
        }
      ]
    },
    {
      "cell_type": "markdown",
      "metadata": {
        "id": "20FWMnTY24Qd"
      },
      "source": [
        "Proximity Forest"
      ]
    },
    {
      "cell_type": "code",
      "metadata": {
        "id": "wVSE_uOYf2_1"
      },
      "source": [
        "from sktime.classification.distance_based import ProximityForest\n",
        "\n",
        "prox_forest = ProximityForest(n_estimators=5)\n",
        "prox_forest.fit(fnirs_X_ts_train, fnirs_Y_train)\n",
        "prox_forest.score(fnirs_X_ts_test, fnirs_Y_test)"
      ],
      "execution_count": null,
      "outputs": []
    },
    {
      "cell_type": "code",
      "metadata": {
        "id": "NkVpRIo_eSjq",
        "colab": {
          "base_uri": "https://localhost:8080/"
        },
        "outputId": "aae8c15a-7cb6-499e-f51c-c380333d003a"
      },
      "source": [
        "from google.colab import drive\n",
        "drive.mount('/content/drive')"
      ],
      "execution_count": 5,
      "outputs": [
        {
          "output_type": "stream",
          "text": [
            "Drive already mounted at /content/drive; to attempt to forcibly remount, call drive.mount(\"/content/drive\", force_remount=True).\n"
          ],
          "name": "stdout"
        }
      ]
    }
  ]
}